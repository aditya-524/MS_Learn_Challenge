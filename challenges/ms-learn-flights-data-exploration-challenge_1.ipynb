{
 "cells": [
  {
   "cell_type": "markdown",
   "id": "ccd797d1",
   "metadata": {
    "papermill": {
     "duration": 0.011377,
     "end_time": "2023-08-30T10:13:44.781550",
     "exception": false,
     "start_time": "2023-08-30T10:13:44.770173",
     "status": "completed"
    },
    "tags": []
   },
   "source": [
    "# Flights Data Exploration Challenge\n",
    "\n",
    "Reference taken from Microsoft's MS Learn Program repository.<br>\n",
    "[Link](https://github.com/MicrosoftDocs/ml-basics)<br>\n",
    "Below is my attempt at the challenge<br>\n",
    "\n",
    "In this challenge, you'll explore a real-world dataset containing flights data from the US Department of Transportation.\n",
    "\n",
    "Let's start by loading and viewing the data."
   ]
  },
  {
   "cell_type": "code",
   "execution_count": 1,
   "id": "3153d3db",
   "metadata": {
    "execution": {
     "iopub.execute_input": "2023-08-30T10:13:44.805124Z",
     "iopub.status.busy": "2023-08-30T10:13:44.804506Z",
     "iopub.status.idle": "2023-08-30T10:13:46.134070Z",
     "shell.execute_reply": "2023-08-30T10:13:46.132703Z"
    },
    "papermill": {
     "duration": 1.345003,
     "end_time": "2023-08-30T10:13:46.137298",
     "exception": false,
     "start_time": "2023-08-30T10:13:44.792295",
     "status": "completed"
    },
    "tags": []
   },
   "outputs": [
    {
     "data": {
      "text/html": [
       "<div>\n",
       "<style scoped>\n",
       "    .dataframe tbody tr th:only-of-type {\n",
       "        vertical-align: middle;\n",
       "    }\n",
       "\n",
       "    .dataframe tbody tr th {\n",
       "        vertical-align: top;\n",
       "    }\n",
       "\n",
       "    .dataframe thead th {\n",
       "        text-align: right;\n",
       "    }\n",
       "</style>\n",
       "<table border=\"1\" class=\"dataframe\">\n",
       "  <thead>\n",
       "    <tr style=\"text-align: right;\">\n",
       "      <th></th>\n",
       "      <th>Year</th>\n",
       "      <th>Month</th>\n",
       "      <th>DayofMonth</th>\n",
       "      <th>DayOfWeek</th>\n",
       "      <th>Carrier</th>\n",
       "      <th>OriginAirportID</th>\n",
       "      <th>OriginAirportName</th>\n",
       "      <th>OriginCity</th>\n",
       "      <th>OriginState</th>\n",
       "      <th>DestAirportID</th>\n",
       "      <th>DestAirportName</th>\n",
       "      <th>DestCity</th>\n",
       "      <th>DestState</th>\n",
       "      <th>CRSDepTime</th>\n",
       "      <th>DepDelay</th>\n",
       "      <th>DepDel15</th>\n",
       "      <th>CRSArrTime</th>\n",
       "      <th>ArrDelay</th>\n",
       "      <th>ArrDel15</th>\n",
       "      <th>Cancelled</th>\n",
       "    </tr>\n",
       "  </thead>\n",
       "  <tbody>\n",
       "    <tr>\n",
       "      <th>0</th>\n",
       "      <td>2013</td>\n",
       "      <td>9</td>\n",
       "      <td>16</td>\n",
       "      <td>1</td>\n",
       "      <td>DL</td>\n",
       "      <td>15304</td>\n",
       "      <td>Tampa International</td>\n",
       "      <td>Tampa</td>\n",
       "      <td>FL</td>\n",
       "      <td>12478</td>\n",
       "      <td>John F. Kennedy International</td>\n",
       "      <td>New York</td>\n",
       "      <td>NY</td>\n",
       "      <td>1539</td>\n",
       "      <td>4</td>\n",
       "      <td>0.0</td>\n",
       "      <td>1824</td>\n",
       "      <td>13</td>\n",
       "      <td>0</td>\n",
       "      <td>0</td>\n",
       "    </tr>\n",
       "    <tr>\n",
       "      <th>1</th>\n",
       "      <td>2013</td>\n",
       "      <td>9</td>\n",
       "      <td>23</td>\n",
       "      <td>1</td>\n",
       "      <td>WN</td>\n",
       "      <td>14122</td>\n",
       "      <td>Pittsburgh International</td>\n",
       "      <td>Pittsburgh</td>\n",
       "      <td>PA</td>\n",
       "      <td>13232</td>\n",
       "      <td>Chicago Midway International</td>\n",
       "      <td>Chicago</td>\n",
       "      <td>IL</td>\n",
       "      <td>710</td>\n",
       "      <td>3</td>\n",
       "      <td>0.0</td>\n",
       "      <td>740</td>\n",
       "      <td>22</td>\n",
       "      <td>1</td>\n",
       "      <td>0</td>\n",
       "    </tr>\n",
       "    <tr>\n",
       "      <th>2</th>\n",
       "      <td>2013</td>\n",
       "      <td>9</td>\n",
       "      <td>7</td>\n",
       "      <td>6</td>\n",
       "      <td>AS</td>\n",
       "      <td>14747</td>\n",
       "      <td>Seattle/Tacoma International</td>\n",
       "      <td>Seattle</td>\n",
       "      <td>WA</td>\n",
       "      <td>11278</td>\n",
       "      <td>Ronald Reagan Washington National</td>\n",
       "      <td>Washington</td>\n",
       "      <td>DC</td>\n",
       "      <td>810</td>\n",
       "      <td>-3</td>\n",
       "      <td>0.0</td>\n",
       "      <td>1614</td>\n",
       "      <td>-7</td>\n",
       "      <td>0</td>\n",
       "      <td>0</td>\n",
       "    </tr>\n",
       "    <tr>\n",
       "      <th>3</th>\n",
       "      <td>2013</td>\n",
       "      <td>7</td>\n",
       "      <td>22</td>\n",
       "      <td>1</td>\n",
       "      <td>OO</td>\n",
       "      <td>13930</td>\n",
       "      <td>Chicago O'Hare International</td>\n",
       "      <td>Chicago</td>\n",
       "      <td>IL</td>\n",
       "      <td>11042</td>\n",
       "      <td>Cleveland-Hopkins International</td>\n",
       "      <td>Cleveland</td>\n",
       "      <td>OH</td>\n",
       "      <td>804</td>\n",
       "      <td>35</td>\n",
       "      <td>1.0</td>\n",
       "      <td>1027</td>\n",
       "      <td>33</td>\n",
       "      <td>1</td>\n",
       "      <td>0</td>\n",
       "    </tr>\n",
       "    <tr>\n",
       "      <th>4</th>\n",
       "      <td>2013</td>\n",
       "      <td>5</td>\n",
       "      <td>16</td>\n",
       "      <td>4</td>\n",
       "      <td>DL</td>\n",
       "      <td>13931</td>\n",
       "      <td>Norfolk International</td>\n",
       "      <td>Norfolk</td>\n",
       "      <td>VA</td>\n",
       "      <td>10397</td>\n",
       "      <td>Hartsfield-Jackson Atlanta International</td>\n",
       "      <td>Atlanta</td>\n",
       "      <td>GA</td>\n",
       "      <td>545</td>\n",
       "      <td>-1</td>\n",
       "      <td>0.0</td>\n",
       "      <td>728</td>\n",
       "      <td>-9</td>\n",
       "      <td>0</td>\n",
       "      <td>0</td>\n",
       "    </tr>\n",
       "  </tbody>\n",
       "</table>\n",
       "</div>"
      ],
      "text/plain": [
       "   Year  Month  DayofMonth  DayOfWeek Carrier  OriginAirportID  \\\n",
       "0  2013      9          16          1      DL            15304   \n",
       "1  2013      9          23          1      WN            14122   \n",
       "2  2013      9           7          6      AS            14747   \n",
       "3  2013      7          22          1      OO            13930   \n",
       "4  2013      5          16          4      DL            13931   \n",
       "\n",
       "              OriginAirportName  OriginCity OriginState  DestAirportID  \\\n",
       "0           Tampa International       Tampa          FL          12478   \n",
       "1      Pittsburgh International  Pittsburgh          PA          13232   \n",
       "2  Seattle/Tacoma International     Seattle          WA          11278   \n",
       "3  Chicago O'Hare International     Chicago          IL          11042   \n",
       "4         Norfolk International     Norfolk          VA          10397   \n",
       "\n",
       "                            DestAirportName    DestCity DestState  CRSDepTime  \\\n",
       "0             John F. Kennedy International    New York        NY        1539   \n",
       "1              Chicago Midway International     Chicago        IL         710   \n",
       "2         Ronald Reagan Washington National  Washington        DC         810   \n",
       "3           Cleveland-Hopkins International   Cleveland        OH         804   \n",
       "4  Hartsfield-Jackson Atlanta International     Atlanta        GA         545   \n",
       "\n",
       "   DepDelay  DepDel15  CRSArrTime  ArrDelay  ArrDel15  Cancelled  \n",
       "0         4       0.0        1824        13         0          0  \n",
       "1         3       0.0         740        22         1          0  \n",
       "2        -3       0.0        1614        -7         0          0  \n",
       "3        35       1.0        1027        33         1          0  \n",
       "4        -1       0.0         728        -9         0          0  "
      ]
     },
     "execution_count": 1,
     "metadata": {},
     "output_type": "execute_result"
    }
   ],
   "source": [
    "import pandas as pd\n",
    "path = '/kaggle/input/microsoftchallenge1flights/flights.csv'\n",
    "df_flights = pd.read_csv(path)\n",
    "df_flights.head()"
   ]
  },
  {
   "cell_type": "markdown",
   "id": "e29d2f7a",
   "metadata": {
    "papermill": {
     "duration": 0.011924,
     "end_time": "2023-08-30T10:13:46.161068",
     "exception": false,
     "start_time": "2023-08-30T10:13:46.149144",
     "status": "completed"
    },
    "tags": []
   },
   "source": [
    "The dataset contains observations of US domestic flights in 2013, and consists of the following fields:\n",
    "\n",
    "- **Year**: The year of the flight (all records are from 2013)\n",
    "- **Month**: The month of the flight\n",
    "- **DayofMonth**: The day of the month on which the flight departed\n",
    "- **DayOfWeek**: The day of the week on which the flight departed - from 1 (Monday) to 7 (Sunday)\n",
    "- **Carrier**: The two-letter abbreviation for the airline.\n",
    "- **OriginAirportID**: A unique numeric identifier for the departure aiport\n",
    "- **OriginAirportName**: The full name of the departure airport\n",
    "- **OriginCity**: The departure airport city\n",
    "- **OriginState**: The departure airport state\n",
    "- **DestAirportID**: A unique numeric identifier for the destination aiport\n",
    "- **DestAirportName**: The full name of the destination airport\n",
    "- **DestCity**: The destination airport city\n",
    "- **DestState**: The destination airport state\n",
    "- **CRSDepTime**: The scheduled departure time\n",
    "- **DepDelay**: The number of minutes departure was delayed (flight that left ahead of schedule have a negative value)\n",
    "- **DelDelay15**: A binary indicator that departure was delayed by more than 15 minutes (and therefore considered \"late\")\n",
    "- **CRSArrTime**: The scheduled arrival time\n",
    "- **ArrDelay**: The number of minutes arrival was delayed (flight that arrived ahead of schedule have a negative value)\n",
    "- **ArrDelay15**: A binary indicator that arrival was delayed by more than 15 minutes (and therefore considered \"late\")\n",
    "- **Cancelled**: A binary indicator that the flight was cancelled\n",
    "\n",
    "Your challenge is to explore the flight data to analyze possible factors that affect delays in departure or arrival of a flight.\n",
    "\n",
    "1. Start by cleaning the data.\n",
    "    - Identify any null or missing data, and impute appropriate replacement values.\n",
    "    - Identify and eliminate any outliers in the **DepDelay** and **ArrDelay** columns.\n",
    "2. Explore the cleaned data.\n",
    "    - View summary statistics for the numeric fields in the dataset.\n",
    "    - Determine the distribution of the **DepDelay** and **ArrDelay** columns.\n",
    "    - Use statistics, aggregate functions, and visualizations to answer the following questions:\n",
    "        - *What are the average (mean) departure and arrival delays?*\n",
    "        - *How do the carriers compare in terms of arrival delay performance?*\n",
    "        - *Is there a noticable difference in arrival delays for different days of the week?*\n",
    "        - *Which departure airport has the highest average departure delay?*\n",
    "        - *Do **late** departures tend to result in longer arrival delays than on-time departures?*\n",
    "        - *Which route (from origin airport to destination airport) has the most **late** arrivals?*\n",
    "        - *Which route has the highest average arrival delay?*\n",
    "        \n",
    "Add markdown and code cells as required to create your solution.\n",
    "\n",
    "> **Note**: There is no single \"correct\" solution. A sample solution is provided in [01 - Flights Challenge.ipynb](01%20-%20Flights%20Solution.ipynb)."
   ]
  },
  {
   "cell_type": "markdown",
   "id": "c4488b2e",
   "metadata": {
    "papermill": {
     "duration": 0.010868,
     "end_time": "2023-08-30T10:13:46.183441",
     "exception": false,
     "start_time": "2023-08-30T10:13:46.172573",
     "status": "completed"
    },
    "tags": []
   },
   "source": [
    "#### Starting With Solution <br>\n",
    "\n",
    "#### Clean Missing Values\n",
    "Checking for null values"
   ]
  },
  {
   "cell_type": "code",
   "execution_count": 2,
   "id": "3f1b1dee",
   "metadata": {
    "execution": {
     "iopub.execute_input": "2023-08-30T10:13:46.209133Z",
     "iopub.status.busy": "2023-08-30T10:13:46.208729Z",
     "iopub.status.idle": "2023-08-30T10:13:46.827184Z",
     "shell.execute_reply": "2023-08-30T10:13:46.826186Z"
    },
    "papermill": {
     "duration": 0.633944,
     "end_time": "2023-08-30T10:13:46.830066",
     "exception": false,
     "start_time": "2023-08-30T10:13:46.196122",
     "status": "completed"
    },
    "tags": []
   },
   "outputs": [
    {
     "data": {
      "text/plain": [
       "Year                    0\n",
       "Month                   0\n",
       "DayofMonth              0\n",
       "DayOfWeek               0\n",
       "Carrier                 0\n",
       "OriginAirportID         0\n",
       "OriginAirportName       0\n",
       "OriginCity              0\n",
       "OriginState             0\n",
       "DestAirportID           0\n",
       "DestAirportName         0\n",
       "DestCity                0\n",
       "DestState               0\n",
       "CRSDepTime              0\n",
       "DepDelay                0\n",
       "DepDel15             2761\n",
       "CRSArrTime              0\n",
       "ArrDelay                0\n",
       "ArrDel15                0\n",
       "Cancelled               0\n",
       "dtype: int64"
      ]
     },
     "execution_count": 2,
     "metadata": {},
     "output_type": "execute_result"
    }
   ],
   "source": [
    "df_flights.isnull().sum() #to check for null values"
   ]
  },
  {
   "cell_type": "markdown",
   "id": "679f4bae",
   "metadata": {
    "papermill": {
     "duration": 0.010964,
     "end_time": "2023-08-30T10:13:46.852840",
     "exception": false,
     "start_time": "2023-08-30T10:13:46.841876",
     "status": "completed"
    },
    "tags": []
   },
   "source": [
    "There appears to be 2761 null values in Column 'DepDel15' which is 'A binary indicator that departure was delayed by more than 15 minutes (and therefore considered \"late\")' \n",
    "Next we verify the DepDelay against these values, if they are really delayed."
   ]
  },
  {
   "cell_type": "code",
   "execution_count": 3,
   "id": "05c9e8fa",
   "metadata": {
    "execution": {
     "iopub.execute_input": "2023-08-30T10:13:46.877215Z",
     "iopub.status.busy": "2023-08-30T10:13:46.876835Z",
     "iopub.status.idle": "2023-08-30T10:13:47.503225Z",
     "shell.execute_reply": "2023-08-30T10:13:47.502021Z"
    },
    "papermill": {
     "duration": 0.64171,
     "end_time": "2023-08-30T10:13:47.505805",
     "exception": false,
     "start_time": "2023-08-30T10:13:46.864095",
     "status": "completed"
    },
    "tags": []
   },
   "outputs": [
    {
     "data": {
      "text/plain": [
       "count    2761.0\n",
       "mean        0.0\n",
       "std         0.0\n",
       "min         0.0\n",
       "25%         0.0\n",
       "50%         0.0\n",
       "75%         0.0\n",
       "max         0.0\n",
       "Name: DepDelay, dtype: float64"
      ]
     },
     "execution_count": 3,
     "metadata": {},
     "output_type": "execute_result"
    }
   ],
   "source": [
    "df_flights[df_flights.isnull().any(axis=1)].DepDelay.describe() # verify the DepDelay against these values"
   ]
  },
  {
   "cell_type": "markdown",
   "id": "6fe6cd3c",
   "metadata": {
    "papermill": {
     "duration": 0.012276,
     "end_time": "2023-08-30T10:13:47.529707",
     "exception": false,
     "start_time": "2023-08-30T10:13:47.517431",
     "status": "completed"
    },
    "tags": []
   },
   "source": [
    "Since the mean min and max are all zero implying the flights were not delayed, \n",
    "we can safely replace the null values with zero."
   ]
  },
  {
   "cell_type": "code",
   "execution_count": 4,
   "id": "a2df2c32",
   "metadata": {
    "execution": {
     "iopub.execute_input": "2023-08-30T10:13:47.555173Z",
     "iopub.status.busy": "2023-08-30T10:13:47.554134Z",
     "iopub.status.idle": "2023-08-30T10:13:48.182527Z",
     "shell.execute_reply": "2023-08-30T10:13:48.181343Z"
    },
    "papermill": {
     "duration": 0.643893,
     "end_time": "2023-08-30T10:13:48.185155",
     "exception": false,
     "start_time": "2023-08-30T10:13:47.541262",
     "status": "completed"
    },
    "tags": []
   },
   "outputs": [
    {
     "data": {
      "text/plain": [
       "Year                 0\n",
       "Month                0\n",
       "DayofMonth           0\n",
       "DayOfWeek            0\n",
       "Carrier              0\n",
       "OriginAirportID      0\n",
       "OriginAirportName    0\n",
       "OriginCity           0\n",
       "OriginState          0\n",
       "DestAirportID        0\n",
       "DestAirportName      0\n",
       "DestCity             0\n",
       "DestState            0\n",
       "CRSDepTime           0\n",
       "DepDelay             0\n",
       "DepDel15             0\n",
       "CRSArrTime           0\n",
       "ArrDelay             0\n",
       "ArrDel15             0\n",
       "Cancelled            0\n",
       "dtype: int64"
      ]
     },
     "execution_count": 4,
     "metadata": {},
     "output_type": "execute_result"
    }
   ],
   "source": [
    "df_flights.DepDel15 = df_flights.DepDel15.fillna(0) #replacing NaN with 0\n",
    "df_flights.isnull().sum() # Verify the null values in the dataset"
   ]
  },
  {
   "cell_type": "markdown",
   "id": "dd4e4355",
   "metadata": {
    "papermill": {
     "duration": 0.011711,
     "end_time": "2023-08-30T10:13:48.208646",
     "exception": false,
     "start_time": "2023-08-30T10:13:48.196935",
     "status": "completed"
    },
    "tags": []
   },
   "source": [
    "Lets check the summary statistics and distribution before and after removing outliers."
   ]
  },
  {
   "cell_type": "code",
   "execution_count": 5,
   "id": "fec23383",
   "metadata": {
    "execution": {
     "iopub.execute_input": "2023-08-30T10:13:48.234185Z",
     "iopub.status.busy": "2023-08-30T10:13:48.233512Z",
     "iopub.status.idle": "2023-08-30T10:13:48.277103Z",
     "shell.execute_reply": "2023-08-30T10:13:48.275850Z"
    },
    "papermill": {
     "duration": 0.059188,
     "end_time": "2023-08-30T10:13:48.279657",
     "exception": false,
     "start_time": "2023-08-30T10:13:48.220469",
     "status": "completed"
    },
    "tags": []
   },
   "outputs": [
    {
     "name": "stdout",
     "output_type": "stream",
     "text": [
      "            DepDelay       ArrDelay\n",
      "count  271940.000000  271940.000000\n",
      "mean       10.350449       6.496650\n",
      "std        35.673710      38.230331\n",
      "min       -63.000000     -75.000000\n",
      "25%        -4.000000     -11.000000\n",
      "50%        -1.000000      -3.000000\n",
      "75%         9.000000      10.000000\n",
      "max      1425.000000    1440.000000\n"
     ]
    }
   ],
   "source": [
    "# Summary Statistics\n",
    "summary_dep_delay = df_flights[[\"DepDelay\"]].describe() \n",
    "summary_arr_delay = df_flights[[\"ArrDelay\"]].describe()\n",
    "side_by_side_summary = pd.concat([summary_dep_delay, summary_arr_delay], axis=1)\n",
    "print(side_by_side_summary)"
   ]
  },
  {
   "cell_type": "code",
   "execution_count": 6,
   "id": "eccb50f8",
   "metadata": {
    "execution": {
     "iopub.execute_input": "2023-08-30T10:13:48.305351Z",
     "iopub.status.busy": "2023-08-30T10:13:48.304945Z",
     "iopub.status.idle": "2023-08-30T10:13:50.551800Z",
     "shell.execute_reply": "2023-08-30T10:13:50.550853Z"
    },
    "papermill": {
     "duration": 2.262812,
     "end_time": "2023-08-30T10:13:50.554521",
     "exception": false,
     "start_time": "2023-08-30T10:13:48.291709",
     "status": "completed"
    },
    "tags": []
   },
   "outputs": [
    {
     "data": {
      "image/png": "[encoded data removed]",
      "text/plain": [
       "<Figure size 1200x600 with 4 Axes>"
      ]
     },
     "metadata": {},
     "output_type": "display_data"
    }
   ],
   "source": [
    "# Printing Boxplots to check outliers\n",
    "import matplotlib.pyplot as plt\n",
    "fig, axes = plt.subplots(2, 2, figsize=(12, 6))\n",
    "df_flights[[\"DepDelay\"]].boxplot(ax=axes[0,0])\n",
    "axes[0,0].set_title(\"Departure Delay Box Plot\")\n",
    "df_flights[[\"ArrDelay\"]].boxplot(ax=axes[0,1])\n",
    "axes[0,1].set_title(\"Arrival Delay Box Plot\")\n",
    "df_flights[\"DepDelay\"].plot.hist(ax=axes[1,0], bins=20)\n",
    "axes[1,0].set_title(\"Departure Delay Distribution\")\n",
    "df_flights[\"ArrDelay\"].plot.hist(ax=axes[1,1], bins=20)\n",
    "axes[1,1].set_title(\"Arrival Delay Distribution\")\n",
    "plt.tight_layout()\n",
    "plt.show()"
   ]
  },
  {
   "cell_type": "markdown",
   "id": "e08e7cb3",
   "metadata": {
    "papermill": {
     "duration": 0.012558,
     "end_time": "2023-08-30T10:13:50.580155",
     "exception": false,
     "start_time": "2023-08-30T10:13:50.567597",
     "status": "completed"
    },
    "tags": []
   },
   "source": [
    "A lot of outliers and a both the distribution appear to be right skewed."
   ]
  },
  {
   "cell_type": "code",
   "execution_count": 7,
   "id": "70ae143b",
   "metadata": {
    "execution": {
     "iopub.execute_input": "2023-08-30T10:13:50.607700Z",
     "iopub.status.busy": "2023-08-30T10:13:50.607283Z",
     "iopub.status.idle": "2023-08-30T10:13:52.518786Z",
     "shell.execute_reply": "2023-08-30T10:13:52.517664Z"
    },
    "papermill": {
     "duration": 1.928858,
     "end_time": "2023-08-30T10:13:52.521667",
     "exception": false,
     "start_time": "2023-08-30T10:13:50.592809",
     "status": "completed"
    },
    "tags": []
   },
   "outputs": [
    {
     "data": {
      "image/png": "[encoded data removed]",
      "text/plain": [
       "<Figure size 1200x600 with 4 Axes>"
      ]
     },
     "metadata": {},
     "output_type": "display_data"
    }
   ],
   "source": [
    "# Trim outliers for ArrDelay based on 1% and 90% percentiles\n",
    "ArrDelay_01pcntile = df_flights.ArrDelay.quantile(0.01)\n",
    "ArrDelay_90pcntile = df_flights.ArrDelay.quantile(0.90)\n",
    "df_flights = df_flights[df_flights.ArrDelay < ArrDelay_90pcntile]\n",
    "df_flights = df_flights[df_flights.ArrDelay > ArrDelay_01pcntile]\n",
    "\n",
    "# Trim outliers for DepDelay based on 1% and 90% percentiles\n",
    "DepDelay_01pcntile = df_flights.DepDelay.quantile(0.01)\n",
    "DepDelay_90pcntile = df_flights.DepDelay.quantile(0.90)\n",
    "df_flights = df_flights[df_flights.DepDelay < DepDelay_90pcntile]\n",
    "df_flights = df_flights[df_flights.DepDelay > DepDelay_01pcntile]\n",
    "\n",
    "fig, axes = plt.subplots(2, 2, figsize=(12, 6))\n",
    "df_flights[[\"DepDelay\"]].boxplot(ax=axes[0,0])\n",
    "axes[0,0].set_title(\"Departure Delay Box Plot\")\n",
    "df_flights[[\"ArrDelay\"]].boxplot(ax=axes[0,1])\n",
    "axes[0,1].set_title(\"Arrival Delay Box Plot\")\n",
    "df_flights[\"DepDelay\"].plot.hist(ax=axes[1,0], bins=20)\n",
    "axes[1,0].set_title(\"Departure Delay Distribution\")\n",
    "df_flights[\"ArrDelay\"].plot.hist(ax=axes[1,1], bins=20)\n",
    "axes[1,1].set_title(\"Arrival Delay Distribution\")\n",
    "plt.tight_layout()\n",
    "plt.show()"
   ]
  },
  {
   "cell_type": "markdown",
   "id": "b704a7ca",
   "metadata": {
    "papermill": {
     "duration": 0.013362,
     "end_time": "2023-08-30T10:13:52.549453",
     "exception": false,
     "start_time": "2023-08-30T10:13:52.536091",
     "status": "completed"
    },
    "tags": []
   },
   "source": [
    "A much cleaner and closely representing a gaussian distribution. "
   ]
  },
  {
   "cell_type": "markdown",
   "id": "ef880a4c",
   "metadata": {
    "papermill": {
     "duration": 0.013499,
     "end_time": "2023-08-30T10:13:52.576581",
     "exception": false,
     "start_time": "2023-08-30T10:13:52.563082",
     "status": "completed"
    },
    "tags": []
   },
   "source": [
    "Summary statistics for the numeric columns."
   ]
  },
  {
   "cell_type": "code",
   "execution_count": 8,
   "id": "7eea6b17",
   "metadata": {
    "execution": {
     "iopub.execute_input": "2023-08-30T10:13:52.605646Z",
     "iopub.status.busy": "2023-08-30T10:13:52.605207Z",
     "iopub.status.idle": "2023-08-30T10:13:52.742106Z",
     "shell.execute_reply": "2023-08-30T10:13:52.740659Z"
    },
    "papermill": {
     "duration": 0.154801,
     "end_time": "2023-08-30T10:13:52.744981",
     "exception": false,
     "start_time": "2023-08-30T10:13:52.590180",
     "status": "completed"
    },
    "tags": []
   },
   "outputs": [
    {
     "data": {
      "text/html": [
       "<div>\n",
       "<style scoped>\n",
       "    .dataframe tbody tr th:only-of-type {\n",
       "        vertical-align: middle;\n",
       "    }\n",
       "\n",
       "    .dataframe tbody tr th {\n",
       "        vertical-align: top;\n",
       "    }\n",
       "\n",
       "    .dataframe thead th {\n",
       "        text-align: right;\n",
       "    }\n",
       "</style>\n",
       "<table border=\"1\" class=\"dataframe\">\n",
       "  <thead>\n",
       "    <tr style=\"text-align: right;\">\n",
       "      <th></th>\n",
       "      <th>Year</th>\n",
       "      <th>Month</th>\n",
       "      <th>DayofMonth</th>\n",
       "      <th>DayOfWeek</th>\n",
       "      <th>OriginAirportID</th>\n",
       "      <th>DestAirportID</th>\n",
       "      <th>CRSDepTime</th>\n",
       "      <th>DepDelay</th>\n",
       "      <th>DepDel15</th>\n",
       "      <th>CRSArrTime</th>\n",
       "      <th>ArrDelay</th>\n",
       "      <th>ArrDel15</th>\n",
       "      <th>Cancelled</th>\n",
       "    </tr>\n",
       "  </thead>\n",
       "  <tbody>\n",
       "    <tr>\n",
       "      <th>count</th>\n",
       "      <td>214397.0</td>\n",
       "      <td>214397.000000</td>\n",
       "      <td>214397.000000</td>\n",
       "      <td>214397.000000</td>\n",
       "      <td>214397.000000</td>\n",
       "      <td>214397.000000</td>\n",
       "      <td>214397.000000</td>\n",
       "      <td>214397.000000</td>\n",
       "      <td>214397.000000</td>\n",
       "      <td>214397.000000</td>\n",
       "      <td>214397.000000</td>\n",
       "      <td>214397.000000</td>\n",
       "      <td>214397.000000</td>\n",
       "    </tr>\n",
       "    <tr>\n",
       "      <th>mean</th>\n",
       "      <td>2013.0</td>\n",
       "      <td>7.018368</td>\n",
       "      <td>15.794703</td>\n",
       "      <td>3.902737</td>\n",
       "      <td>12757.827661</td>\n",
       "      <td>12726.276147</td>\n",
       "      <td>1278.223879</td>\n",
       "      <td>-0.921692</td>\n",
       "      <td>0.018116</td>\n",
       "      <td>1461.406596</td>\n",
       "      <td>-5.030276</td>\n",
       "      <td>0.068602</td>\n",
       "      <td>0.013228</td>\n",
       "    </tr>\n",
       "    <tr>\n",
       "      <th>std</th>\n",
       "      <td>0.0</td>\n",
       "      <td>2.006398</td>\n",
       "      <td>8.859118</td>\n",
       "      <td>1.997744</td>\n",
       "      <td>1510.058629</td>\n",
       "      <td>1506.251757</td>\n",
       "      <td>469.440262</td>\n",
       "      <td>5.708594</td>\n",
       "      <td>0.133371</td>\n",
       "      <td>485.676457</td>\n",
       "      <td>11.424280</td>\n",
       "      <td>0.252776</td>\n",
       "      <td>0.114249</td>\n",
       "    </tr>\n",
       "    <tr>\n",
       "      <th>min</th>\n",
       "      <td>2013.0</td>\n",
       "      <td>4.000000</td>\n",
       "      <td>1.000000</td>\n",
       "      <td>1.000000</td>\n",
       "      <td>10140.000000</td>\n",
       "      <td>10140.000000</td>\n",
       "      <td>1.000000</td>\n",
       "      <td>-11.000000</td>\n",
       "      <td>0.000000</td>\n",
       "      <td>1.000000</td>\n",
       "      <td>-32.000000</td>\n",
       "      <td>0.000000</td>\n",
       "      <td>0.000000</td>\n",
       "    </tr>\n",
       "    <tr>\n",
       "      <th>25%</th>\n",
       "      <td>2013.0</td>\n",
       "      <td>5.000000</td>\n",
       "      <td>8.000000</td>\n",
       "      <td>2.000000</td>\n",
       "      <td>11292.000000</td>\n",
       "      <td>11292.000000</td>\n",
       "      <td>850.000000</td>\n",
       "      <td>-5.000000</td>\n",
       "      <td>0.000000</td>\n",
       "      <td>1054.000000</td>\n",
       "      <td>-13.000000</td>\n",
       "      <td>0.000000</td>\n",
       "      <td>0.000000</td>\n",
       "    </tr>\n",
       "    <tr>\n",
       "      <th>50%</th>\n",
       "      <td>2013.0</td>\n",
       "      <td>7.000000</td>\n",
       "      <td>16.000000</td>\n",
       "      <td>4.000000</td>\n",
       "      <td>12892.000000</td>\n",
       "      <td>12892.000000</td>\n",
       "      <td>1235.000000</td>\n",
       "      <td>-2.000000</td>\n",
       "      <td>0.000000</td>\n",
       "      <td>1445.000000</td>\n",
       "      <td>-6.000000</td>\n",
       "      <td>0.000000</td>\n",
       "      <td>0.000000</td>\n",
       "    </tr>\n",
       "    <tr>\n",
       "      <th>75%</th>\n",
       "      <td>2013.0</td>\n",
       "      <td>9.000000</td>\n",
       "      <td>23.000000</td>\n",
       "      <td>6.000000</td>\n",
       "      <td>14100.000000</td>\n",
       "      <td>14057.000000</td>\n",
       "      <td>1655.000000</td>\n",
       "      <td>1.000000</td>\n",
       "      <td>0.000000</td>\n",
       "      <td>1845.000000</td>\n",
       "      <td>2.000000</td>\n",
       "      <td>0.000000</td>\n",
       "      <td>0.000000</td>\n",
       "    </tr>\n",
       "    <tr>\n",
       "      <th>max</th>\n",
       "      <td>2013.0</td>\n",
       "      <td>10.000000</td>\n",
       "      <td>31.000000</td>\n",
       "      <td>7.000000</td>\n",
       "      <td>15376.000000</td>\n",
       "      <td>15376.000000</td>\n",
       "      <td>2359.000000</td>\n",
       "      <td>16.000000</td>\n",
       "      <td>1.000000</td>\n",
       "      <td>2359.000000</td>\n",
       "      <td>37.000000</td>\n",
       "      <td>1.000000</td>\n",
       "      <td>1.000000</td>\n",
       "    </tr>\n",
       "  </tbody>\n",
       "</table>\n",
       "</div>"
      ],
      "text/plain": [
       "           Year          Month     DayofMonth      DayOfWeek  OriginAirportID  \\\n",
       "count  214397.0  214397.000000  214397.000000  214397.000000    214397.000000   \n",
       "mean     2013.0       7.018368      15.794703       3.902737     12757.827661   \n",
       "std         0.0       2.006398       8.859118       1.997744      1510.058629   \n",
       "min      2013.0       4.000000       1.000000       1.000000     10140.000000   \n",
       "25%      2013.0       5.000000       8.000000       2.000000     11292.000000   \n",
       "50%      2013.0       7.000000      16.000000       4.000000     12892.000000   \n",
       "75%      2013.0       9.000000      23.000000       6.000000     14100.000000   \n",
       "max      2013.0      10.000000      31.000000       7.000000     15376.000000   \n",
       "\n",
       "       DestAirportID     CRSDepTime       DepDelay       DepDel15  \\\n",
       "count  214397.000000  214397.000000  214397.000000  214397.000000   \n",
       "mean    12726.276147    1278.223879      -0.921692       0.018116   \n",
       "std      1506.251757     469.440262       5.708594       0.133371   \n",
       "min     10140.000000       1.000000     -11.000000       0.000000   \n",
       "25%     11292.000000     850.000000      -5.000000       0.000000   \n",
       "50%     12892.000000    1235.000000      -2.000000       0.000000   \n",
       "75%     14057.000000    1655.000000       1.000000       0.000000   \n",
       "max     15376.000000    2359.000000      16.000000       1.000000   \n",
       "\n",
       "          CRSArrTime       ArrDelay       ArrDel15      Cancelled  \n",
       "count  214397.000000  214397.000000  214397.000000  214397.000000  \n",
       "mean     1461.406596      -5.030276       0.068602       0.013228  \n",
       "std       485.676457      11.424280       0.252776       0.114249  \n",
       "min         1.000000     -32.000000       0.000000       0.000000  \n",
       "25%      1054.000000     -13.000000       0.000000       0.000000  \n",
       "50%      1445.000000      -6.000000       0.000000       0.000000  \n",
       "75%      1845.000000       2.000000       0.000000       0.000000  \n",
       "max      2359.000000      37.000000       1.000000       1.000000  "
      ]
     },
     "execution_count": 8,
     "metadata": {},
     "output_type": "execute_result"
    }
   ],
   "source": [
    "df_flights.describe()"
   ]
  },
  {
   "cell_type": "markdown",
   "id": "221046f9",
   "metadata": {
    "papermill": {
     "duration": 0.01379,
     "end_time": "2023-08-30T10:13:52.772887",
     "exception": false,
     "start_time": "2023-08-30T10:13:52.759097",
     "status": "completed"
    },
    "tags": []
   },
   "source": [
    "### Approaching the specific questions <br>\n",
    "#### What are the mean departure and arrival delays?"
   ]
  },
  {
   "cell_type": "code",
   "execution_count": 9,
   "id": "1f941b1a",
   "metadata": {
    "execution": {
     "iopub.execute_input": "2023-08-30T10:13:52.803397Z",
     "iopub.status.busy": "2023-08-30T10:13:52.802135Z",
     "iopub.status.idle": "2023-08-30T10:13:52.814936Z",
     "shell.execute_reply": "2023-08-30T10:13:52.813746Z"
    },
    "papermill": {
     "duration": 0.030521,
     "end_time": "2023-08-30T10:13:52.817269",
     "exception": false,
     "start_time": "2023-08-30T10:13:52.786748",
     "status": "completed"
    },
    "tags": []
   },
   "outputs": [
    {
     "data": {
      "text/plain": [
       "DepDelay   -0.921692\n",
       "ArrDelay   -5.030276\n",
       "dtype: float64"
      ]
     },
     "execution_count": 9,
     "metadata": {},
     "output_type": "execute_result"
    }
   ],
   "source": [
    "df_flights[[\"DepDelay\", \"ArrDelay\"]].mean()"
   ]
  },
  {
   "cell_type": "markdown",
   "id": "c32d4c15",
   "metadata": {
    "papermill": {
     "duration": 0.013721,
     "end_time": "2023-08-30T10:13:52.845010",
     "exception": false,
     "start_time": "2023-08-30T10:13:52.831289",
     "status": "completed"
    },
    "tags": []
   },
   "source": [
    "#### How do the carriers compare in terms of arrival delay performance?\n",
    "Answer :There is no major difference to contrast, though there is comparatively lower delay for carrriers DL and UA and comparatively higher arrival delay for carrier F9\n"
   ]
  },
  {
   "cell_type": "code",
   "execution_count": 10,
   "id": "f262c263",
   "metadata": {
    "execution": {
     "iopub.execute_input": "2023-08-30T10:13:52.876752Z",
     "iopub.status.busy": "2023-08-30T10:13:52.876066Z",
     "iopub.status.idle": "2023-08-30T10:13:54.925004Z",
     "shell.execute_reply": "2023-08-30T10:13:54.923742Z"
    },
    "papermill": {
     "duration": 2.067567,
     "end_time": "2023-08-30T10:13:54.927868",
     "exception": false,
     "start_time": "2023-08-30T10:13:52.860301",
     "status": "completed"
    },
    "tags": []
   },
   "outputs": [
    {
     "name": "stderr",
     "output_type": "stream",
     "text": [
      "/opt/conda/lib/python3.10/site-packages/scipy/__init__.py:146: UserWarning: A NumPy version >=1.16.5 and <1.23.0 is required for this version of SciPy (detected version 1.23.5\n",
      "  warnings.warn(f\"A NumPy version >={np_minversion} and <{np_maxversion}\"\n"
     ]
    },
    {
     "data": {
      "image/png": "[encoded data removed]",
      "text/plain": [
       "<Figure size 1200x600 with 1 Axes>"
      ]
     },
     "metadata": {},
     "output_type": "display_data"
    }
   ],
   "source": [
    "import seaborn as sns\n",
    "plt.figure(figsize=(12, 6))\n",
    "sns.boxplot(data=df_flights, x='Carrier', y='ArrDelay')\n",
    "plt.title(\"Arrival Delay Performance by Carrier\")\n",
    "plt.xlabel(\"Carrier\")\n",
    "plt.ylabel(\"Arrival Delay\")\n",
    "plt.xticks(rotation=45)\n",
    "plt.show()\n"
   ]
  },
  {
   "cell_type": "markdown",
   "id": "a169f655",
   "metadata": {
    "papermill": {
     "duration": 0.015217,
     "end_time": "2023-08-30T10:13:54.958508",
     "exception": false,
     "start_time": "2023-08-30T10:13:54.943291",
     "status": "completed"
    },
    "tags": []
   },
   "source": [
    "#### Is there a noticable difference in arrival delays for different days of the week?\n",
    "Answer : No"
   ]
  },
  {
   "cell_type": "code",
   "execution_count": 11,
   "id": "67389770",
   "metadata": {
    "execution": {
     "iopub.execute_input": "2023-08-30T10:13:54.991380Z",
     "iopub.status.busy": "2023-08-30T10:13:54.990532Z",
     "iopub.status.idle": "2023-08-30T10:13:55.413471Z",
     "shell.execute_reply": "2023-08-30T10:13:55.412288Z"
    },
    "papermill": {
     "duration": 0.442569,
     "end_time": "2023-08-30T10:13:55.416195",
     "exception": false,
     "start_time": "2023-08-30T10:13:54.973626",
     "status": "completed"
    },
    "tags": []
   },
   "outputs": [
    {
     "data": {
      "image/png": "[encoded data removed]",
      "text/plain": [
       "<Figure size 1200x600 with 1 Axes>"
      ]
     },
     "metadata": {},
     "output_type": "display_data"
    }
   ],
   "source": [
    "plt.figure(figsize=(12, 6))\n",
    "sns.boxplot(data=df_flights, x='DayOfWeek', y='ArrDelay')\n",
    "plt.title(\"Arrival Delay Performance by Weekday\")\n",
    "plt.xlabel(\"Day of the Week\")\n",
    "plt.ylabel(\"Arrival Delay\")\n",
    "plt.xticks(rotation=45)\n",
    "plt.show()"
   ]
  },
  {
   "cell_type": "markdown",
   "id": "68d47502",
   "metadata": {
    "papermill": {
     "duration": 0.01579,
     "end_time": "2023-08-30T10:13:55.447948",
     "exception": false,
     "start_time": "2023-08-30T10:13:55.432158",
     "status": "completed"
    },
    "tags": []
   },
   "source": [
    "#### Which departure airport has the highest average departure delay?"
   ]
  },
  {
   "cell_type": "code",
   "execution_count": 12,
   "id": "3db9dc19",
   "metadata": {
    "execution": {
     "iopub.execute_input": "2023-08-30T10:13:55.482780Z",
     "iopub.status.busy": "2023-08-30T10:13:55.482058Z",
     "iopub.status.idle": "2023-08-30T10:13:55.526360Z",
     "shell.execute_reply": "2023-08-30T10:13:55.525145Z"
    },
    "papermill": {
     "duration": 0.064676,
     "end_time": "2023-08-30T10:13:55.528830",
     "exception": false,
     "start_time": "2023-08-30T10:13:55.464154",
     "status": "completed"
    },
    "tags": []
   },
   "outputs": [
    {
     "name": "stdout",
     "output_type": "stream",
     "text": [
      "Chicago Midway International,DepDelay    2.36596\n",
      "Name: Chicago Midway International, dtype: float64\n"
     ]
    }
   ],
   "source": [
    "average_dep_delay_by_airport = df_flights.groupby('OriginAirportName')['DepDelay'].mean()\n",
    "average_dep_delay_by_airport = pd.DataFrame(average_dep_delay_by_airport).sort_values('DepDelay', ascending=False)\n",
    "\n",
    "print(f\"{average_dep_delay_by_airport.index[0]},{average_dep_delay_by_airport.iloc[0]}\")"
   ]
  },
  {
   "cell_type": "markdown",
   "id": "ee8aca54",
   "metadata": {
    "papermill": {
     "duration": 0.016479,
     "end_time": "2023-08-30T10:13:55.560822",
     "exception": false,
     "start_time": "2023-08-30T10:13:55.544343",
     "status": "completed"
    },
    "tags": []
   },
   "source": [
    "#### Do late departures tend to result in longer arrival delays than on-time departures?\n",
    "Answer : Yes"
   ]
  },
  {
   "cell_type": "code",
   "execution_count": 13,
   "id": "f8e1b9dc",
   "metadata": {
    "execution": {
     "iopub.execute_input": "2023-08-30T10:13:55.596820Z",
     "iopub.status.busy": "2023-08-30T10:13:55.596375Z",
     "iopub.status.idle": "2023-08-30T10:13:55.639731Z",
     "shell.execute_reply": "2023-08-30T10:13:55.638399Z"
    },
    "papermill": {
     "duration": 0.065116,
     "end_time": "2023-08-30T10:13:55.642201",
     "exception": false,
     "start_time": "2023-08-30T10:13:55.577085",
     "status": "completed"
    },
    "tags": []
   },
   "outputs": [
    {
     "name": "stdout",
     "output_type": "stream",
     "text": [
      "Delay for late departures: 9.56 mins\n",
      "Delay for on-time departures: -5.30 mins\n"
     ]
    }
   ],
   "source": [
    "\n",
    "late_departures = df_flights[df_flights['DepDel15'] > 0]\n",
    "on_time_departures = df_flights[df_flights['DepDel15'] <= 0]\n",
    "average_arrival_delay_late = late_departures['ArrDelay'].mean()\n",
    "average_arrival_delay_on_time = on_time_departures['ArrDelay'].mean()\n",
    "\n",
    "print(f\"Delay for late departures: {average_arrival_delay_late:.2f} mins\")\n",
    "print(f\"Delay for on-time departures: {average_arrival_delay_on_time:.2f} mins\")"
   ]
  },
  {
   "cell_type": "markdown",
   "id": "fb34a7a0",
   "metadata": {
    "papermill": {
     "duration": 0.015825,
     "end_time": "2023-08-30T10:13:55.674174",
     "exception": false,
     "start_time": "2023-08-30T10:13:55.658349",
     "status": "completed"
    },
    "tags": []
   },
   "source": [
    "#### Which route (from origin airport to destination airport) has the most late arrivals?"
   ]
  },
  {
   "cell_type": "code",
   "execution_count": 14,
   "id": "763c1646",
   "metadata": {
    "execution": {
     "iopub.execute_input": "2023-08-30T10:13:55.707254Z",
     "iopub.status.busy": "2023-08-30T10:13:55.706860Z",
     "iopub.status.idle": "2023-08-30T10:13:55.732073Z",
     "shell.execute_reply": "2023-08-30T10:13:55.728989Z"
    },
    "papermill": {
     "duration": 0.044774,
     "end_time": "2023-08-30T10:13:55.734637",
     "exception": false,
     "start_time": "2023-08-30T10:13:55.689863",
     "status": "completed"
    },
    "tags": []
   },
   "outputs": [
    {
     "name": "stdout",
     "output_type": "stream",
     "text": [
      "('San Francisco International', 'Los Angeles International')\n"
     ]
    }
   ],
   "source": [
    "late_arrivals = df_flights[df_flights['ArrDel15'] > 0]\n",
    "most_late_arrival_route = late_arrivals.groupby(['OriginAirportName', 'DestAirportName']).size().idxmax()\n",
    "\n",
    "print(most_late_arrival_route)"
   ]
  },
  {
   "cell_type": "markdown",
   "id": "447b94fe",
   "metadata": {
    "papermill": {
     "duration": 0.015809,
     "end_time": "2023-08-30T10:13:55.766602",
     "exception": false,
     "start_time": "2023-08-30T10:13:55.750793",
     "status": "completed"
    },
    "tags": []
   },
   "source": [
    "#### Which route has the highest average arrival delay?"
   ]
  },
  {
   "cell_type": "code",
   "execution_count": 15,
   "id": "2fd877f9",
   "metadata": {
    "execution": {
     "iopub.execute_input": "2023-08-30T10:13:55.801137Z",
     "iopub.status.busy": "2023-08-30T10:13:55.800158Z",
     "iopub.status.idle": "2023-08-30T10:13:55.879665Z",
     "shell.execute_reply": "2023-08-30T10:13:55.878279Z"
    },
    "papermill": {
     "duration": 0.099599,
     "end_time": "2023-08-30T10:13:55.882277",
     "exception": false,
     "start_time": "2023-08-30T10:13:55.782678",
     "status": "completed"
    },
    "tags": []
   },
   "outputs": [
    {
     "name": "stdout",
     "output_type": "stream",
     "text": [
      "('Louis Armstrong New Orleans International', 'Ronald Reagan Washington National')\n"
     ]
    }
   ],
   "source": [
    "average_arrival_delay_by_route = df_flights.groupby(['OriginAirportName', 'DestAirportName'])['ArrDelay'].mean()\n",
    "route_highest_avg_delay = average_arrival_delay_by_route.idxmax()\n",
    "\n",
    "print(route_highest_avg_delay)\n"
   ]
  }
 ],
 "kernelspec": {
  "display_name": "Python 3",
  "language": "python",
  "name": "python3"
 },
 "language_info": {
  "codemirror_mode": {
   "name": "ipython",
   "version": 3
  },
  "file_extension": ".py",
  "mimetype": "text/x-python",
  "name": "python",
  "nbconvert_exporter": "python",
  "pygments_lexer": "ipython3",
  "version": "3.6.4"
 },
 "metadata": {
  "kernelspec": {
   "display_name": "Python 3",
   "language": "python",
   "name": "python3"
  },
  "language_info": {
   "codemirror_mode": {
    "name": "ipython",
    "version": 3
   },
   "file_extension": ".py",
   "mimetype": "text/x-python",
   "name": "python",
   "nbconvert_exporter": "python",
   "pygments_lexer": "ipython3",
   "version": "3.10.12"
  },
  "papermill": {
   "default_parameters": {},
   "duration": 25.353204,
   "end_time": "2023-08-30T10:13:56.921328",
   "environment_variables": {},
   "exception": null,
   "input_path": "__notebook__.ipynb",
   "output_path": "__notebook__.ipynb",
   "parameters": {},
   "start_time": "2023-08-30T10:13:31.568124",
   "version": "2.4.0"
  }
 },
 "nbformat": 4,
 "nbformat_minor": 5
}
